{
  "cells": [
    {
      "cell_type": "code",
      "execution_count": 1,
      "id": "c4Symy0a8Jo1",
      "metadata": {
        "colab": {
          "base_uri": "https://localhost:8080/",
          "height": 0
        },
        "id": "c4Symy0a8Jo1",
        "outputId": "c8c3d9c7-2c4e-4f95-b6e4-855a5959f7bc"
      },
      "outputs": [
        {
          "name": "stdout",
          "output_type": "stream",
          "text": [
            "Found existing installation: torch 2.5.1+cu121\n",
            "Uninstalling torch-2.5.1+cu121:\n",
            "  Successfully uninstalled torch-2.5.1+cu121\n",
            "\u001b[33mWARNING: Skipping torchtext as it is not installed.\u001b[0m\u001b[33m\n",
            "\u001b[0m"
          ]
        }
      ],
      "source": [
        "!pip uninstall -y torch torchtext"
      ]
    },
    {
      "cell_type": "code",
      "execution_count": 3,
      "id": "Wt6QCTyB8iLV",
      "metadata": {
        "colab": {
          "base_uri": "https://localhost:8080/",
          "height": 0
        },
        "id": "Wt6QCTyB8iLV",
        "outputId": "a6c30201-dbf7-4694-92eb-6162c99e1d87"
      },
      "outputs": [
        {
          "name": "stdout",
          "output_type": "stream",
          "text": [
            "Requirement already satisfied: torch==2.0.1 in /usr/local/lib/python3.10/dist-packages (2.0.1)\n",
            "Requirement already satisfied: torchtext==0.15.2 in /usr/local/lib/python3.10/dist-packages (0.15.2)\n",
            "Requirement already satisfied: filelock in /usr/local/lib/python3.10/dist-packages (from torch==2.0.1) (3.16.1)\n",
            "Requirement already satisfied: typing-extensions in /usr/local/lib/python3.10/dist-packages (from torch==2.0.1) (4.12.2)\n",
            "Requirement already satisfied: sympy in /usr/local/lib/python3.10/dist-packages (from torch==2.0.1) (1.13.1)\n",
            "Requirement already satisfied: networkx in /usr/local/lib/python3.10/dist-packages (from torch==2.0.1) (3.4.2)\n",
            "Requirement already satisfied: jinja2 in /usr/local/lib/python3.10/dist-packages (from torch==2.0.1) (3.1.4)\n",
            "Requirement already satisfied: nvidia-cuda-nvrtc-cu11==11.7.99 in /usr/local/lib/python3.10/dist-packages (from torch==2.0.1) (11.7.99)\n",
            "Requirement already satisfied: nvidia-cuda-runtime-cu11==11.7.99 in /usr/local/lib/python3.10/dist-packages (from torch==2.0.1) (11.7.99)\n",
            "Requirement already satisfied: nvidia-cuda-cupti-cu11==11.7.101 in /usr/local/lib/python3.10/dist-packages (from torch==2.0.1) (11.7.101)\n",
            "Requirement already satisfied: nvidia-cudnn-cu11==8.5.0.96 in /usr/local/lib/python3.10/dist-packages (from torch==2.0.1) (8.5.0.96)\n",
            "Requirement already satisfied: nvidia-cublas-cu11==11.10.3.66 in /usr/local/lib/python3.10/dist-packages (from torch==2.0.1) (11.10.3.66)\n",
            "Requirement already satisfied: nvidia-cufft-cu11==10.9.0.58 in /usr/local/lib/python3.10/dist-packages (from torch==2.0.1) (10.9.0.58)\n",
            "Requirement already satisfied: nvidia-curand-cu11==10.2.10.91 in /usr/local/lib/python3.10/dist-packages (from torch==2.0.1) (10.2.10.91)\n",
            "Requirement already satisfied: nvidia-cusolver-cu11==11.4.0.1 in /usr/local/lib/python3.10/dist-packages (from torch==2.0.1) (11.4.0.1)\n",
            "Requirement already satisfied: nvidia-cusparse-cu11==11.7.4.91 in /usr/local/lib/python3.10/dist-packages (from torch==2.0.1) (11.7.4.91)\n",
            "Requirement already satisfied: nvidia-nccl-cu11==2.14.3 in /usr/local/lib/python3.10/dist-packages (from torch==2.0.1) (2.14.3)\n",
            "Requirement already satisfied: nvidia-nvtx-cu11==11.7.91 in /usr/local/lib/python3.10/dist-packages (from torch==2.0.1) (11.7.91)\n",
            "Requirement already satisfied: triton==2.0.0 in /usr/local/lib/python3.10/dist-packages (from torch==2.0.1) (2.0.0)\n",
            "Requirement already satisfied: tqdm in /usr/local/lib/python3.10/dist-packages (from torchtext==0.15.2) (4.66.6)\n",
            "Requirement already satisfied: requests in /usr/local/lib/python3.10/dist-packages (from torchtext==0.15.2) (2.32.3)\n",
            "Requirement already satisfied: numpy in /usr/local/lib/python3.10/dist-packages (from torchtext==0.15.2) (1.26.4)\n",
            "Requirement already satisfied: torchdata==0.6.1 in /usr/local/lib/python3.10/dist-packages (from torchtext==0.15.2) (0.6.1)\n",
            "Requirement already satisfied: setuptools in /usr/local/lib/python3.10/dist-packages (from nvidia-cublas-cu11==11.10.3.66->torch==2.0.1) (75.1.0)\n",
            "Requirement already satisfied: wheel in /usr/local/lib/python3.10/dist-packages (from nvidia-cublas-cu11==11.10.3.66->torch==2.0.1) (0.45.0)\n",
            "Requirement already satisfied: urllib3>=1.25 in /usr/local/lib/python3.10/dist-packages (from torchdata==0.6.1->torchtext==0.15.2) (2.2.3)\n",
            "Requirement already satisfied: cmake in /usr/local/lib/python3.10/dist-packages (from triton==2.0.0->torch==2.0.1) (3.30.5)\n",
            "Requirement already satisfied: lit in /usr/local/lib/python3.10/dist-packages (from triton==2.0.0->torch==2.0.1) (18.1.8)\n",
            "Requirement already satisfied: MarkupSafe>=2.0 in /usr/local/lib/python3.10/dist-packages (from jinja2->torch==2.0.1) (3.0.2)\n",
            "Requirement already satisfied: charset-normalizer<4,>=2 in /usr/local/lib/python3.10/dist-packages (from requests->torchtext==0.15.2) (3.4.0)\n",
            "Requirement already satisfied: idna<4,>=2.5 in /usr/local/lib/python3.10/dist-packages (from requests->torchtext==0.15.2) (3.10)\n",
            "Requirement already satisfied: certifi>=2017.4.17 in /usr/local/lib/python3.10/dist-packages (from requests->torchtext==0.15.2) (2024.8.30)\n",
            "Requirement already satisfied: mpmath<1.4,>=1.1.0 in /usr/local/lib/python3.10/dist-packages (from sympy->torch==2.0.1) (1.3.0)\n"
          ]
        }
      ],
      "source": [
        "!pip install torch==2.0.1 torchtext==0.15.2"
      ]
    },
    {
      "cell_type": "code",
      "execution_count": 4,
      "id": "u05cZTP09FEB",
      "metadata": {
        "colab": {
          "base_uri": "https://localhost:8080/",
          "height": 0
        },
        "id": "u05cZTP09FEB",
        "outputId": "1124423c-2e31-476f-9074-f2da2ab39296"
      },
      "outputs": [
        {
          "name": "stdout",
          "output_type": "stream",
          "text": [
            "PyTorch Version: 2.0.1+cu117\n",
            "TorchText Version: 0.15.2+cpu\n"
          ]
        }
      ],
      "source": [
        "import torch\n",
        "import torchtext\n",
        "print(\"PyTorch Version:\", torch.__version__)\n",
        "print(\"TorchText Version:\", torchtext.__version__)"
      ]
    },
    {
      "cell_type": "markdown",
      "id": "BEjKtGP5WX2g",
      "metadata": {
        "id": "BEjKtGP5WX2g"
      },
      "source": [
        "#import libraries"
      ]
    },
    {
      "cell_type": "code",
      "execution_count": 5,
      "id": "Zbd92b_09VGk",
      "metadata": {
        "id": "Zbd92b_09VGk"
      },
      "outputs": [],
      "source": [
        "import numpy as np\n",
        "import torch\n",
        "import torch.nn as nn\n",
        "import torch.optim as optim\n",
        "import torchtext\n",
        "import tqdm\n",
        "import collections\n",
        "import matplotlib.pyplot as plt\n",
        "import pandas as pd\n",
        "\n",
        "# Set seed for reproducibility\n",
        "seed = 1234\n",
        "np.random.seed(seed)\n",
        "torch.manual_seed(seed)\n",
        "torch.cuda.manual_seed(seed)\n",
        "torch.backends.cudnn.deterministic = True\n",
        "from torchtext.data.utils import get_tokenizer\n",
        "import pandas as pd\n",
        "import numpy as np\n",
        "import torch\n",
        "from torchtext.data.utils import get_tokenizer\n",
        "from torchtext.vocab import build_vocab_from_iterator\n",
        "from sklearn.model_selection import train_test_split\n"
      ]
    },
    {
      "cell_type": "markdown",
      "id": "57JabwSSWeME",
      "metadata": {
        "id": "57JabwSSWeME"
      },
      "source": [
        "#Load the data"
      ]
    },
    {
      "cell_type": "code",
      "execution_count": 6,
      "id": "RjdLrMfvrK1B",
      "metadata": {
        "colab": {
          "base_uri": "https://localhost:8080/",
          "height": 0
        },
        "id": "RjdLrMfvrK1B",
        "outputId": "993788bf-b6eb-4e55-9a60-12bd7bce17a2"
      },
      "outputs": [
        {
          "name": "stdout",
          "output_type": "stream",
          "text": [
            "Train data sample:\n",
            "      text_id                                           sentence  gold_label\n",
            "0  r1-0051002             Cheers,\\n\\nDennis Nguyen\\n416-879-6431           0\n",
            "1  r1-0020356               May have to wait longer on holidays.          -1\n",
            "2  r1-0058348    I drove to vegas may 6th,  to get my hair done.           0\n",
            "3  r1-0080006  In addition, I eat out often at various restau...           1\n",
            "4  r1-0000827                  Perhaps she was doing us a favor?           0\n",
            "test data sample:\n",
            "      text_id                                           sentence\n",
            "0  r1-0086521  A helpful valet at the Bellagio said it was a ...\n",
            "1  r1-0044715  People often ask \"what happened to the human c...\n",
            "2  r1-0060690  He explained there would be a diagnostic fee o...\n",
            "3  r1-0016852    I had initially purchased a massage on Groupon.\n",
            "4  r2-0006040  Primarily do high-end cars as they get referra...\n"
          ]
        }
      ],
      "source": [
        "train_data = pd.read_csv('/content/train.csv')  # Main dataset\n",
        "test_data = pd.read_csv('/content/test.csv')      # To be used for final evaluation\n",
        "\n",
        "print(\"Train data sample:\")\n",
        "print(train_data.head())\n",
        "print(\"test data sample:\")\n",
        "print(test_data.head())"
      ]
    },
    {
      "cell_type": "code",
      "execution_count": 7,
      "id": "dvgQUPjvRzWJ",
      "metadata": {
        "colab": {
          "base_uri": "https://localhost:8080/",
          "height": 0
        },
        "id": "dvgQUPjvRzWJ",
        "outputId": "54f7b95e-4d11-4bc7-f9d7-c1cd1dfe2036"
      },
      "outputs": [
        {
          "name": "stdout",
          "output_type": "stream",
          "text": [
            "The missing values in train data are as follows :\n",
            "text_id       0\n",
            "sentence      0\n",
            "gold_label    0\n",
            "dtype: int64\n",
            "\n",
            " The Missing values in test data are as follows:\n",
            "text_id     0\n",
            "sentence    0\n",
            "dtype: int64\n"
          ]
        }
      ],
      "source": [
        "# Check for missing values in train and test data\n",
        "print(\"The missing values in train data are as follows :\")\n",
        "print(train_data.isnull().sum())\n",
        "\n",
        "print(\"\\n The Missing values in test data are as follows:\")\n",
        "print(test_data.isnull().sum())\n",
        "\n"
      ]
    },
    {
      "cell_type": "code",
      "execution_count": 8,
      "id": "3ov2W-nlTDWA",
      "metadata": {
        "colab": {
          "base_uri": "https://localhost:8080/",
          "height": 0
        },
        "id": "3ov2W-nlTDWA",
        "outputId": "d1378748-0667-481e-d40c-35dc3a7bec3b"
      },
      "outputs": [
        {
          "name": "stdout",
          "output_type": "stream",
          "text": [
            "Columns in train data: Index(['text_id', 'sentence', 'gold_label'], dtype='object')\n"
          ]
        }
      ],
      "source": [
        "print(\"Columns in train data:\", train_data.columns)"
      ]
    },
    {
      "cell_type": "code",
      "execution_count": 9,
      "id": "hWRNSrnTR8r0",
      "metadata": {
        "id": "hWRNSrnTR8r0"
      },
      "outputs": [],
      "source": [
        "# Basic text cleaning\n",
        "import re\n",
        "\n",
        "def clean_text(text):\n",
        "    text = text.strip()\n",
        "    text = re.sub(r'\\s+', ' ', text)\n",
        "    text = re.sub(r'[^\\w\\s]', '', text)\n",
        "    return text.lower()\n",
        "\n",
        "train_data['cleaned_sentence'] = train_data['sentence'].apply(clean_text)\n"
      ]
    },
    {
      "cell_type": "code",
      "execution_count": 10,
      "id": "wbmlMCmFSC_M",
      "metadata": {
        "colab": {
          "base_uri": "https://localhost:8080/",
          "height": 0
        },
        "id": "wbmlMCmFSC_M",
        "outputId": "1adf27c6-a135-42a8-da53-c62bce5aee5e"
      },
      "outputs": [
        {
          "name": "stdout",
          "output_type": "stream",
          "text": [
            "\n",
            "Cleaned Train Data Sample:\n",
            "                                            sentence  \\\n",
            "0             Cheers,\\n\\nDennis Nguyen\\n416-879-6431   \n",
            "1               May have to wait longer on holidays.   \n",
            "2    I drove to vegas may 6th,  to get my hair done.   \n",
            "3  In addition, I eat out often at various restau...   \n",
            "4                  Perhaps she was doing us a favor?   \n",
            "\n",
            "                                    cleaned_sentence  \n",
            "0                    cheers dennis nguyen 4168796431  \n",
            "1                may have to wait longer on holidays  \n",
            "2       i drove to vegas may 6th to get my hair done  \n",
            "3  in addition i eat out often at various restaur...  \n",
            "4                   perhaps she was doing us a favor  \n"
          ]
        }
      ],
      "source": [
        "# Printing some cleaned data to check\n",
        "print(\"\\nCleaned Train Data Sample:\")\n",
        "print(train_data[['sentence', 'cleaned_sentence']].head())\n"
      ]
    },
    {
      "cell_type": "code",
      "execution_count": 11,
      "id": "qIEj6b-rStcW",
      "metadata": {
        "colab": {
          "base_uri": "https://localhost:8080/",
          "height": 0
        },
        "id": "qIEj6b-rStcW",
        "outputId": "26cad0a3-11b2-405d-ad29-f82c02987321"
      },
      "outputs": [
        {
          "name": "stdout",
          "output_type": "stream",
          "text": [
            "Columns in train data: Index(['text_id', 'sentence', 'gold_label', 'cleaned_sentence'], dtype='object')\n"
          ]
        }
      ],
      "source": [
        "print(\"Columns in train data:\", train_data.columns)"
      ]
    },
    {
      "cell_type": "markdown",
      "id": "50-oGLvOWkk0",
      "metadata": {
        "id": "50-oGLvOWkk0"
      },
      "source": [
        "#mapping the labels to 0,1,2"
      ]
    },
    {
      "cell_type": "code",
      "execution_count": 12,
      "id": "8tejIoyoUII3",
      "metadata": {
        "id": "8tejIoyoUII3"
      },
      "outputs": [],
      "source": [
        "from sklearn.model_selection import train_test_split\n",
        "\n",
        "# Replace 'sentence' content with 'cleaned_sentence'\n",
        "train_data['sentence'] = train_data['cleaned_sentence']\n",
        "\n",
        "# Drop the original 'cleaned_sentence' column\n",
        "train_data = train_data.drop(columns=['cleaned_sentence'])\n"
      ]
    },
    {
      "cell_type": "code",
      "execution_count": 13,
      "id": "GjtpoK-kULGL",
      "metadata": {
        "colab": {
          "base_uri": "https://localhost:8080/",
          "height": 0
        },
        "id": "GjtpoK-kULGL",
        "outputId": "caf5d4c7-bdd0-46c0-f305-01fe2e6b2d1f"
      },
      "outputs": [
        {
          "name": "stdout",
          "output_type": "stream",
          "text": [
            "Columns in train data: Index(['text_id', 'sentence', 'gold_label'], dtype='object')\n"
          ]
        }
      ],
      "source": [
        "print(\"Columns in train data:\", train_data.columns)"
      ]
    },
    {
      "cell_type": "code",
      "execution_count": 14,
      "id": "D2RTikMDsCm3",
      "metadata": {
        "id": "D2RTikMDsCm3"
      },
      "outputs": [],
      "source": [
        "\n",
        "train_data['gold_label'] = train_data['gold_label'].map({-1: 0, 0: 1, 1: 2})\n"
      ]
    },
    {
      "cell_type": "code",
      "execution_count": 15,
      "id": "vt_0nf2UWiyf",
      "metadata": {
        "colab": {
          "base_uri": "https://localhost:8080/",
          "height": 0
        },
        "id": "vt_0nf2UWiyf",
        "outputId": "d9235214-e06f-4eed-baa4-fb0c78c24460"
      },
      "outputs": [
        {
          "name": "stdout",
          "output_type": "stream",
          "text": [
            "Training set size: 73782\n",
            "Validation set size: 18446\n"
          ]
        }
      ],
      "source": [
        "# Spliting the the training data into 85% train and 15% , 90% 10%, 80/20 validation\n",
        "train_split, valid_split = train_test_split(train_data, test_size=0.20, random_state=seed)\n",
        "\n",
        "print(f\"Training set size: {len(train_split)}\")\n",
        "print(f\"Validation set size: {len(valid_split)}\")"
      ]
    },
    {
      "cell_type": "markdown",
      "id": "aMx5yZDSWwkT",
      "metadata": {
        "id": "aMx5yZDSWwkT"
      },
      "source": [
        "I am using basic_english tried spacy but more or less this works better"
      ]
    },
    {
      "cell_type": "code",
      "execution_count": 16,
      "id": "RboqnGbRXS9T",
      "metadata": {
        "id": "RboqnGbRXS9T"
      },
      "outputs": [],
      "source": [
        "tokenizer = get_tokenizer(\"basic_english\")\n",
        "\n",
        "def tokenize_example(row, max_length=256):\n",
        "    tokens = tokenizer(row[\"sentence\"])[:max_length]\n",
        "    return {\"tokens\": tokens, \"length\": len(tokens)}"
      ]
    },
    {
      "cell_type": "code",
      "execution_count": 17,
      "id": "DSsloaQzsGvs",
      "metadata": {
        "colab": {
          "base_uri": "https://localhost:8080/",
          "height": 0
        },
        "id": "DSsloaQzsGvs",
        "outputId": "8bb42675-d667-4a7b-f014-32ad0217e93b"
      },
      "outputs": [
        {
          "name": "stdout",
          "output_type": "stream",
          "text": [
            "Tokenized training data sample:\n",
            "66609    {'tokens': ['wow', 'that', 'sounds', 'like', '...\n",
            "9234     {'tokens': ['really', 'deserves', 'negative', ...\n",
            "84490    {'tokens': ['was', 'told', 'i', 'would', 'get'...\n",
            "9610     {'tokens': ['aftercare', 'most', 'times', 'whe...\n",
            "87631    {'tokens': ['line', 'does', 'go', 'by', 'quick...\n",
            "Name: tokenized, dtype: object\n"
          ]
        }
      ],
      "source": [
        "train_split[\"tokenized\"] = train_split.apply(tokenize_example, axis=1)\n",
        "valid_split[\"tokenized\"] = valid_split.apply(tokenize_example, axis=1)\n",
        "\n",
        "#print\n",
        "print(\"Tokenized training data sample:\")\n",
        "print(train_split[\"tokenized\"].head())\n"
      ]
    },
    {
      "cell_type": "code",
      "execution_count": 18,
      "id": "hsV4x40-sQ92",
      "metadata": {
        "id": "hsV4x40-sQ92"
      },
      "outputs": [],
      "source": [
        "# Yield tokens from the tokenized column in train_split\n",
        "def yield_tokens(data):\n",
        "    for item in data[\"tokenized\"]:\n",
        "        yield item[\"tokens\"]\n",
        "\n"
      ]
    },
    {
      "cell_type": "markdown",
      "id": "DWU6g5ajXBfv",
      "metadata": {
        "id": "DWU6g5ajXBfv"
      },
      "source": [
        "# using torchtext build_vocab _from_iterator"
      ]
    },
    {
      "cell_type": "code",
      "execution_count": 19,
      "id": "cEoKHu2QW_1W",
      "metadata": {
        "colab": {
          "base_uri": "https://localhost:8080/",
          "height": 0
        },
        "id": "cEoKHu2QW_1W",
        "outputId": "57157121-b64e-4a5e-fc4c-e92d4eb11607"
      },
      "outputs": [
        {
          "name": "stdout",
          "output_type": "stream",
          "text": [
            "Vocabulary size: 8113\n"
          ]
        }
      ],
      "source": [
        "min_freq = 5\n",
        "vocab = build_vocab_from_iterator(yield_tokens(train_split), min_freq=min_freq, specials=[\"<unk>\", \"<pad>\"])\n",
        "vocab.set_default_index(vocab[\"<unk>\"])  # Set default index to <unk>\n",
        "\n",
        "print(f\"Vocabulary size: {len(vocab)}\")"
      ]
    },
    {
      "cell_type": "code",
      "execution_count": 20,
      "id": "HSFnnuKrXQks",
      "metadata": {
        "id": "HSFnnuKrXQks"
      },
      "outputs": [],
      "source": [
        "# Function to convert tokens to numerical indices\n",
        "def numericalize_example(row, vocab):\n",
        "    ids = vocab.lookup_indices(row[\"tokenized\"][\"tokens\"])\n",
        "    return {\"ids\": ids, \"length\": row[\"tokenized\"][\"length\"], \"label\": row[\"gold_label\"]}"
      ]
    },
    {
      "cell_type": "code",
      "execution_count": 22,
      "id": "ZPOJtvuZsda-",
      "metadata": {
        "colab": {
          "base_uri": "https://localhost:8080/",
          "height": 0
        },
        "id": "ZPOJtvuZsda-",
        "outputId": "280a219d-101b-4517-9166-7a993aabc9c5"
      },
      "outputs": [
        {
          "name": "stdout",
          "output_type": "stream",
          "text": [
            "Numericalized training data size: 73782\n",
            "Numericalized validation data size: 18446\n"
          ]
        }
      ],
      "source": [
        "train_split[\"numericalized\"] = train_split.apply(lambda x: numericalize_example(x, vocab), axis=1)\n",
        "valid_split[\"numericalized\"] = valid_split.apply(lambda x: numericalize_example(x, vocab), axis=1)\n",
        "\n",
        "# Eror - converted to list\n",
        "train_data_numericalized = train_split[\"numericalized\"].to_list()\n",
        "valid_data_numericalized = valid_split[\"numericalized\"].to_list()\n",
        "\n",
        "# Verify\n",
        "print(f\"Numericalized training data size: {len(train_data_numericalized)}\")\n",
        "print(f\"Numericalized validation data size: {len(valid_data_numericalized)}\")\n"
      ]
    },
    {
      "cell_type": "code",
      "execution_count": 23,
      "id": "aQIrfek7ubE-",
      "metadata": {
        "colab": {
          "base_uri": "https://localhost:8080/",
          "height": 0
        },
        "id": "aQIrfek7ubE-",
        "outputId": "bf085bf7-ec0a-4c9e-e7ed-de73d8682171"
      },
      "outputs": [
        {
          "name": "stdout",
          "output_type": "stream",
          "text": [
            "Columns in train_split: Index(['text_id', 'sentence', 'gold_label', 'tokenized', 'numericalized'], dtype='object')\n"
          ]
        }
      ],
      "source": [
        "print(\"Columns in train_split:\", train_split.columns)\n"
      ]
    },
    {
      "cell_type": "code",
      "execution_count": 24,
      "id": "wPRWBcnovpf3",
      "metadata": {
        "colab": {
          "base_uri": "https://localhost:8080/",
          "height": 0
        },
        "id": "wPRWBcnovpf3",
        "outputId": "feba8992-3eb0-4b52-c918-fffd09ce2eee"
      },
      "outputs": [
        {
          "name": "stdout",
          "output_type": "stream",
          "text": [
            "66609    {'tokens': ['wow', 'that', 'sounds', 'like', '...\n",
            "9234     {'tokens': ['really', 'deserves', 'negative', ...\n",
            "84490    {'tokens': ['was', 'told', 'i', 'would', 'get'...\n",
            "9610     {'tokens': ['aftercare', 'most', 'times', 'whe...\n",
            "87631    {'tokens': ['line', 'does', 'go', 'by', 'quick...\n",
            "Name: tokenized, dtype: object\n"
          ]
        }
      ],
      "source": [
        "print(train_split[\"tokenized\"].head())\n"
      ]
    },
    {
      "cell_type": "code",
      "execution_count": 25,
      "id": "t0hPZa29v5xQ",
      "metadata": {
        "id": "t0hPZa29v5xQ"
      },
      "outputs": [],
      "source": [
        "def numericalize_example(row, vocab):\n",
        "    ids = vocab.lookup_indices(row[\"tokenized\"][\"tokens\"])  # Access 'tokens' within the 'tokenized' dict\n",
        "    return {\"ids\": ids, \"length\": row[\"tokenized\"][\"length\"], \"label\": row[\"gold_label\"]}\n"
      ]
    },
    {
      "cell_type": "markdown",
      "id": "LgZ-vh1RXevN",
      "metadata": {
        "id": "LgZ-vh1RXevN"
      },
      "source": [
        "Now using the numericaliztion to train and valid ddataset"
      ]
    },
    {
      "cell_type": "code",
      "execution_count": 26,
      "id": "gJYfitHZv7EV",
      "metadata": {
        "colab": {
          "base_uri": "https://localhost:8080/",
          "height": 0
        },
        "id": "gJYfitHZv7EV",
        "outputId": "de2bc239-6712-4a43-98be-50db7912b527"
      },
      "outputs": [
        {
          "name": "stdout",
          "output_type": "stream",
          "text": [
            "Numericalized train_split sample:\n",
            "66609    {'ids': [979, 15, 1146, 39, 482, 5, 50, 36, 0,...\n",
            "9234     {'ids': [91, 1865, 783, 178, 549], 'length': 5...\n",
            "84490    {'ids': [7, 136, 3, 49, 37, 5, 219, 129, 101, ...\n",
            "9610     {'ids': [0, 196, 156, 45, 20, 383, 2, 976, 73,...\n",
            "87631    {'ids': [273, 423, 55, 69, 502, 32, 30, 35, 39...\n",
            "Name: numericalized, dtype: object\n"
          ]
        }
      ],
      "source": [
        "# train dataset\n",
        "train_split[\"numericalized\"] = train_split.apply(\n",
        "    lambda x: numericalize_example(x, vocab), axis=1\n",
        ")\n",
        "\n",
        "# valod dataset\n",
        "valid_split[\"numericalized\"] = valid_split.apply(\n",
        "    lambda x: numericalize_example(x, vocab), axis=1\n",
        ")\n",
        "\n",
        "# Verify it\n",
        "print(\"Numericalized train_split sample:\")\n",
        "print(train_split[\"numericalized\"].head())\n"
      ]
    },
    {
      "cell_type": "code",
      "execution_count": 27,
      "id": "Q5i4kdWuwDRH",
      "metadata": {
        "colab": {
          "base_uri": "https://localhost:8080/",
          "height": 0
        },
        "id": "Q5i4kdWuwDRH",
        "outputId": "92663a6b-0669-43c3-f7bf-71f29c7eea25"
      },
      "outputs": [
        {
          "name": "stdout",
          "output_type": "stream",
          "text": [
            "text_id                                                 r2-0016087\n",
            "sentence              wow that sounds like such a good time uh huh\n",
            "gold_label                                                       2\n",
            "tokenized        {'tokens': ['wow', 'that', 'sounds', 'like', '...\n",
            "numericalized    {'ids': [979, 15, 1146, 39, 482, 5, 50, 36, 0,...\n",
            "Name: 66609, dtype: object\n"
          ]
        }
      ],
      "source": [
        "print(train_split.iloc[0])  # Ensure all keys ('tokenized', 'gold_label') are present\n"
      ]
    },
    {
      "cell_type": "code",
      "execution_count": 28,
      "id": "KcVYJItIssLO",
      "metadata": {
        "colab": {
          "base_uri": "https://localhost:8080/",
          "height": 0
        },
        "id": "KcVYJItIssLO",
        "outputId": "1fbabc53-7494-4256-d504-7a5a73732fe2"
      },
      "outputs": [
        {
          "name": "stdout",
          "output_type": "stream",
          "text": [
            "Test dataset1 sample:\n",
            "      text_id                                           sentence\n",
            "0  r1-0086521  A helpful valet at the Bellagio said it was a ...\n",
            "1  r1-0044715  People often ask \"what happened to the human c...\n",
            "2  r1-0060690  He explained there would be a diagnostic fee o...\n",
            "3  r1-0016852    I had initially purchased a massage on Groupon.\n",
            "4  r2-0006040  Primarily do high-end cars as they get referra...\n"
          ]
        }
      ],
      "source": [
        "print(\"Test dataset1 sample:\")\n",
        "print(test_data.head())"
      ]
    },
    {
      "cell_type": "code",
      "execution_count": 29,
      "id": "YslQBKoztJS_",
      "metadata": {
        "colab": {
          "base_uri": "https://localhost:8080/",
          "height": 0
        },
        "id": "YslQBKoztJS_",
        "outputId": "277a1d99-5341-4d2c-a48d-7780c4b2af17"
      },
      "outputs": [
        {
          "name": "stdout",
          "output_type": "stream",
          "text": [
            "text_id                                                 r2-0016087\n",
            "sentence              wow that sounds like such a good time uh huh\n",
            "gold_label                                                       2\n",
            "tokenized        {'tokens': ['wow', 'that', 'sounds', 'like', '...\n",
            "numericalized    {'ids': [979, 15, 1146, 39, 482, 5, 50, 36, 0,...\n",
            "Name: 66609, dtype: object\n"
          ]
        }
      ],
      "source": [
        "# Verify by checking the first entry\n",
        "print(train_split.iloc[0])\n",
        "\n"
      ]
    },
    {
      "cell_type": "markdown",
      "id": "iOecqeB3aPK2",
      "metadata": {
        "id": "iOecqeB3aPK2"
      },
      "source": [
        "#custome collate function"
      ]
    },
    {
      "cell_type": "code",
      "execution_count": 30,
      "id": "6a2bb50a",
      "metadata": {
        "id": "6a2bb50a"
      },
      "outputs": [],
      "source": [
        "from torch.utils.data import DataLoader\n",
        "\n",
        "def get_collate_fn(pad_index):\n",
        "    def collate_fn(batch):\n",
        "        # ids, length, and label\n",
        "        batch_ids = [torch.tensor(row[\"numericalized\"][\"ids\"]) for row in batch]\n",
        "        batch_ids = nn.utils.rnn.pad_sequence(\n",
        "            batch_ids, padding_value=pad_index, batch_first=True\n",
        "        )\n",
        "        batch_length = torch.tensor([row[\"numericalized\"][\"length\"] for row in batch])\n",
        "        batch_label = torch.tensor([row[\"numericalized\"][\"label\"] for row in batch])\n",
        "\n",
        "        return {\n",
        "            \"ids\": batch_ids,\n",
        "            \"length\": batch_length,\n",
        "            \"label\": batch_label\n",
        "        }\n",
        "    return collate_fn\n",
        "\n"
      ]
    },
    {
      "cell_type": "code",
      "execution_count": 31,
      "id": "d7o-0nkV4wpq",
      "metadata": {
        "id": "d7o-0nkV4wpq"
      },
      "outputs": [],
      "source": [
        "from torch.utils.data import DataLoader\n",
        "\n",
        "def get_data_loader(data, batch_size, pad_index, shuffle=False):\n",
        "    collate_fn = get_collate_fn(pad_index)\n",
        "    return DataLoader(data.to_dict(orient=\"records\"), batch_size=batch_size, collate_fn=collate_fn, shuffle=shuffle)\n"
      ]
    },
    {
      "cell_type": "code",
      "execution_count": 32,
      "id": "-1CTeRiYzQkT",
      "metadata": {
        "colab": {
          "base_uri": "https://localhost:8080/",
          "height": 0
        },
        "id": "-1CTeRiYzQkT",
        "outputId": "2cebad56-198a-4310-f6b3-182532d17718"
      },
      "outputs": [
        {
          "name": "stdout",
          "output_type": "stream",
          "text": [
            "Index(['text_id', 'sentence', 'gold_label', 'tokenized', 'numericalized'], dtype='object')\n"
          ]
        }
      ],
      "source": [
        "print(train_split.columns)\n"
      ]
    },
    {
      "cell_type": "code",
      "execution_count": 33,
      "id": "eg6RNea-zXgj",
      "metadata": {
        "colab": {
          "base_uri": "https://localhost:8080/",
          "height": 0
        },
        "id": "eg6RNea-zXgj",
        "outputId": "f51208bc-f603-4ff5-c0a1-d14a694c6ade"
      },
      "outputs": [
        {
          "name": "stdout",
          "output_type": "stream",
          "text": [
            "66609    {'ids': [979, 15, 1146, 39, 482, 5, 50, 36, 0,...\n",
            "9234     {'ids': [91, 1865, 783, 178, 549], 'length': 5...\n",
            "84490    {'ids': [7, 136, 3, 49, 37, 5, 219, 129, 101, ...\n",
            "9610     {'ids': [0, 196, 156, 45, 20, 383, 2, 976, 73,...\n",
            "87631    {'ids': [273, 423, 55, 69, 502, 32, 30, 35, 39...\n",
            "Name: numericalized, dtype: object\n"
          ]
        }
      ],
      "source": [
        "print(train_split[\"numericalized\"].head())\n"
      ]
    },
    {
      "cell_type": "code",
      "execution_count": 34,
      "id": "SRm_fHQPzC5C",
      "metadata": {
        "colab": {
          "base_uri": "https://localhost:8080/",
          "height": 0
        },
        "id": "SRm_fHQPzC5C",
        "outputId": "be7d431e-87f4-484b-bbec-44895153f3f6"
      },
      "outputs": [
        {
          "name": "stdout",
          "output_type": "stream",
          "text": [
            "First batch from train_data_loader:\n",
            "{'ids': tensor([[  10,  503,   29,  ...,    1,    1,    1],\n",
            "        [   0,  188,   15,  ...,    1,    1,    1],\n",
            "        [   3,  149,    1,  ...,    1,    1,    1],\n",
            "        ...,\n",
            "        [  19,  106, 1744,  ...,    1,    1,    1],\n",
            "        [  13, 1145, 1610,  ...,    1,    1,    1],\n",
            "        [3853,    2,  273,  ...,    1,    1,    1]]), 'length': tensor([12,  3,  2, 11, 11,  9,  4,  5, 27, 27, 15, 19, 15, 17, 17, 12, 25, 10,\n",
            "         2,  3, 14, 14, 12, 25, 26, 23, 20,  5,  6,  7, 24,  8, 17,  8, 18,  9,\n",
            "         9,  8, 27,  7, 27, 14,  9, 19, 13,  4,  3,  3, 10,  5, 39, 26,  3, 14,\n",
            "        14, 16,  2, 24, 13, 11,  8,  6,  9,  7]), 'label': tensor([0, 1, 1, 1, 0, 2, 2, 2, 2, 2, 2, 0, 2, 0, 2, 1, 2, 1, 2, 1, 2, 1, 2, 2,\n",
            "        0, 2, 1, 2, 2, 1, 1, 2, 1, 1, 0, 1, 1, 1, 1, 1, 2, 2, 0, 1, 2, 2, 2, 0,\n",
            "        1, 1, 1, 0, 1, 1, 0, 2, 2, 1, 1, 1, 1, 1, 1, 1])}\n"
          ]
        }
      ],
      "source": [
        "batch_size = 64 # experimented with 64, 128, 256\n",
        "pad_index = vocab[\"<pad>\"]\n",
        "\n",
        "train_data_loader = get_data_loader(train_split, batch_size, pad_index, shuffle=True)\n",
        "valid_data_loader = get_data_loader(valid_split, batch_size, pad_index)\n",
        "\n",
        "# Test a batch\n",
        "print(\"First batch from train_data_loader:\")\n",
        "for batch in train_data_loader:\n",
        "    print(batch)\n",
        "    break  # Only check the first batch\n"
      ]
    },
    {
      "cell_type": "markdown",
      "id": "cOiOqcMPrUZT",
      "metadata": {
        "id": "cOiOqcMPrUZT"
      },
      "source": [
        "1. Input\n",
        "2. embedding\n",
        "3. LSTM\n",
        "4. GRU\n",
        "5. attention\n",
        "6. Transformer\n",
        "7. combined output\n",
        "8  BN\n",
        "9. FC\n",
        "10 prediction"
      ]
    },
    {
      "cell_type": "code",
      "execution_count": 35,
      "id": "Vag-JDSlpz0M",
      "metadata": {
        "id": "Vag-JDSlpz0M"
      },
      "outputs": [],
      "source": [
        "# Layer 1\n",
        "class TokenEmbedding(nn.Module):\n",
        "    def __init__(self, num_embeddings, embedding_dim, padding_idx, dropout_p):\n",
        "        super(TokenEmbedding, self).__init__()\n",
        "        self.embedding_layer = nn.Embedding(num_embeddings, embedding_dim, padding_idx=padding_idx)\n",
        "        self.dropout_layer = nn.Dropout(dropout_p)\n",
        "\n",
        "    def forward(self, input_tokens):\n",
        "        embeddings = self.embedding_layer(input_tokens)\n",
        "        return self.dropout_layer(embeddings)\n",
        "\n",
        "    def load_pretrained_weights(self, pretrained_weights):\n",
        "        self.embedding_layer.weight.data.copy_(pretrained_weights)"
      ]
    },
    {
      "cell_type": "code",
      "execution_count": 36,
      "id": "2LLlbACMp8Br",
      "metadata": {
        "id": "2LLlbACMp8Br"
      },
      "outputs": [],
      "source": [
        "# RNN Layer\n",
        "class RecurrentLayer(nn.Module):\n",
        "    def __init__(self, rnn_type, input_dim, hidden_dim, num_layers, bidirectional, dropout_p):\n",
        "        super(RecurrentLayer, self).__init__()\n",
        "        if rnn_type == \"lstm\":\n",
        "            self.rnn = nn.LSTM(\n",
        "                input_size=input_dim,\n",
        "                hidden_size=hidden_dim,\n",
        "                num_layers=num_layers,\n",
        "                bidirectional=bidirectional,\n",
        "                dropout=dropout_p if num_layers > 1 else 0,\n",
        "                batch_first=True,\n",
        "            )\n",
        "        elif rnn_type == \"gru\":\n",
        "            self.rnn = nn.GRU(\n",
        "                input_size=input_dim,\n",
        "                hidden_size=hidden_dim,\n",
        "                num_layers=num_layers,\n",
        "                bidirectional=bidirectional,\n",
        "                dropout=dropout_p if num_layers > 1 else 0,\n",
        "                batch_first=True,\n",
        "            )\n",
        "        else:\n",
        "            raise ValueError(\"Unsupported RNN type. Use 'lstm' or 'gru'.\")\n",
        "\n",
        "    def forward(self, packed_input):\n",
        "        packed_output, hidden_state = self.rnn(packed_input)\n",
        "        unpacked_output, _ = nn.utils.rnn.pad_packed_sequence(packed_output, batch_first=True)\n",
        "        return unpacked_output, hidden_state\n"
      ]
    },
    {
      "cell_type": "code",
      "execution_count": 37,
      "id": "G0jlksVLqLhV",
      "metadata": {
        "id": "G0jlksVLqLhV"
      },
      "outputs": [],
      "source": [
        "# Attention Mechanism\n",
        "class AttentionModule(nn.Module):\n",
        "    def __init__(self, feature_dim):\n",
        "        super(AttentionModule, self).__init__()\n",
        "        self.attention_score_layer = nn.Linear(feature_dim, 1)\n",
        "\n",
        "    def forward(self, rnn_outputs):\n",
        "        attention_weights = torch.softmax(self.attention_score_layer(rnn_outputs), dim=1)\n",
        "        context_vector = torch.sum(rnn_outputs * attention_weights, dim=1)\n",
        "        return context_vector\n"
      ]
    },
    {
      "cell_type": "code",
      "execution_count": 38,
      "id": "li6Y-wLRqPUj",
      "metadata": {
        "id": "li6Y-wLRqPUj"
      },
      "outputs": [],
      "source": [
        "# Transformer Encoder Layer\n",
        "class TransformerLayer(nn.Module):\n",
        "    def __init__(self, d_model, num_heads, num_layers, dropout_p):\n",
        "        super(TransformerLayer, self).__init__()\n",
        "        self.encoder_layer = nn.TransformerEncoderLayer(\n",
        "            d_model=d_model, nhead=num_heads, dropout=dropout_p\n",
        "        )\n",
        "        self.encoder = nn.TransformerEncoder(self.encoder_layer, num_layers=num_layers)\n",
        "\n",
        "    def forward(self, embeddings):\n",
        "        encoder_output = self.encoder(embeddings.transpose(0, 1))\n",
        "        return encoder_output.transpose(0, 1)\n"
      ]
    },
    {
      "cell_type": "code",
      "execution_count": 40,
      "id": "vJp1cMamqXGh",
      "metadata": {
        "id": "vJp1cMamqXGh"
      },
      "outputs": [],
      "source": [
        "#Combined - EnsembleModel\n",
        "class SentimentAnalysisEnsemble(nn.Module):\n",
        "    def __init__(\n",
        "        self,\n",
        "        vocab_size,\n",
        "        embedding_dim,\n",
        "        hidden_dim,\n",
        "        output_dim,\n",
        "        num_rnn_layers,\n",
        "        bidirectional,\n",
        "        dropout_p,\n",
        "        padding_idx,\n",
        "        num_heads,\n",
        "        num_transformer_layers,\n",
        "    ):\n",
        "        super(SentimentAnalysisEnsemble, self).__init__()\n",
        "        # Modules\n",
        "        self.embedding_layer = TokenEmbedding(vocab_size, embedding_dim, padding_idx, dropout_p)\n",
        "        self.lstm_layer = RecurrentLayer(\"lstm\", embedding_dim, hidden_dim, num_rnn_layers, bidirectional, dropout_p)\n",
        "        self.gru_layer = RecurrentLayer(\"gru\", embedding_dim, hidden_dim, num_rnn_layers, bidirectional, dropout_p)\n",
        "        self.lstm_attention = AttentionModule(hidden_dim * 2 if bidirectional else hidden_dim)\n",
        "        self.gru_attention = AttentionModule(hidden_dim * 2 if bidirectional else hidden_dim)\n",
        "        self.transformer_layer = TransformerLayer(embedding_dim, num_heads, num_transformer_layers, dropout_p)\n",
        "        self.classifier = nn.Linear(\n",
        "            hidden_dim * 2 * (2 if bidirectional else 1) + embedding_dim, output_dim\n",
        "        )\n",
        "        self.batch_norm = nn.BatchNorm1d(\n",
        "            hidden_dim * 2 * (2 if bidirectional else 1) + embedding_dim\n",
        "        )\n",
        "        self.regularizer_dropout = nn.Dropout(dropout_p)\n",
        "\n",
        "    def forward(self, input_tokens, sequence_lengths):\n",
        "        #embedding\n",
        "        embeddings = self.embedding_layer(input_tokens)\n",
        "\n",
        "        #inputs packed\n",
        "        packed_embeddings = nn.utils.rnn.pack_padded_sequence(\n",
        "            embeddings, sequence_lengths, batch_first=True, enforce_sorted=False\n",
        "        )\n",
        "\n",
        "        #lstm\n",
        "        lstm_output, _ = self.lstm_layer(packed_embeddings)\n",
        "        lstm_attention_output = self.lstm_attention(lstm_output)\n",
        "\n",
        "        #gru\n",
        "        gru_output, _ = self.gru_layer(packed_embeddings)\n",
        "        gru_attention_output = self.gru_attention(gru_output)\n",
        "\n",
        "        #transformer\n",
        "        transformer_output = self.transformer_layer(embeddings)\n",
        "        transformer_pooled = transformer_output.mean(dim=1)\n",
        "\n",
        "        #combine-features\n",
        "        combined_features = torch.cat([lstm_attention_output, gru_attention_output, transformer_pooled], dim=-1)\n",
        "        normalized_features = self.batch_norm(combined_features)\n",
        "\n",
        "        #final output\n",
        "        final_prediction = self.classifier(normalized_features)\n",
        "        return final_prediction"
      ]
    },
    {
      "cell_type": "code",
      "execution_count": 80,
      "id": "11206188",
      "metadata": {
        "colab": {
          "base_uri": "https://localhost:8080/",
          "height": 0
        },
        "id": "11206188",
        "outputId": "3aae4954-a79d-4983-9b22-fb577c428c28"
      },
      "outputs": [
        {
          "name": "stdout",
          "output_type": "stream",
          "text": [
            "SentimentAnalysisEnsemble(\n",
            "  (embedding_layer): TokenEmbedding(\n",
            "    (embedding_layer): Embedding(8113, 300, padding_idx=1)\n",
            "    (dropout_layer): Dropout(p=0.5, inplace=False)\n",
            "  )\n",
            "  (lstm_layer): RecurrentLayer(\n",
            "    (rnn): LSTM(300, 500, num_layers=3, batch_first=True, dropout=0.5, bidirectional=True)\n",
            "  )\n",
            "  (gru_layer): RecurrentLayer(\n",
            "    (rnn): GRU(300, 500, num_layers=3, batch_first=True, dropout=0.5, bidirectional=True)\n",
            "  )\n",
            "  (lstm_attention): AttentionModule(\n",
            "    (attention_score_layer): Linear(in_features=1000, out_features=1, bias=True)\n",
            "  )\n",
            "  (gru_attention): AttentionModule(\n",
            "    (attention_score_layer): Linear(in_features=1000, out_features=1, bias=True)\n",
            "  )\n",
            "  (transformer_layer): TransformerLayer(\n",
            "    (encoder_layer): TransformerEncoderLayer(\n",
            "      (self_attn): MultiheadAttention(\n",
            "        (out_proj): NonDynamicallyQuantizableLinear(in_features=300, out_features=300, bias=True)\n",
            "      )\n",
            "      (linear1): Linear(in_features=300, out_features=2048, bias=True)\n",
            "      (dropout): Dropout(p=0.5, inplace=False)\n",
            "      (linear2): Linear(in_features=2048, out_features=300, bias=True)\n",
            "      (norm1): LayerNorm((300,), eps=1e-05, elementwise_affine=True)\n",
            "      (norm2): LayerNorm((300,), eps=1e-05, elementwise_affine=True)\n",
            "      (dropout1): Dropout(p=0.5, inplace=False)\n",
            "      (dropout2): Dropout(p=0.5, inplace=False)\n",
            "    )\n",
            "    (encoder): TransformerEncoder(\n",
            "      (layers): ModuleList(\n",
            "        (0-5): 6 x TransformerEncoderLayer(\n",
            "          (self_attn): MultiheadAttention(\n",
            "            (out_proj): NonDynamicallyQuantizableLinear(in_features=300, out_features=300, bias=True)\n",
            "          )\n",
            "          (linear1): Linear(in_features=300, out_features=2048, bias=True)\n",
            "          (dropout): Dropout(p=0.5, inplace=False)\n",
            "          (linear2): Linear(in_features=2048, out_features=300, bias=True)\n",
            "          (norm1): LayerNorm((300,), eps=1e-05, elementwise_affine=True)\n",
            "          (norm2): LayerNorm((300,), eps=1e-05, elementwise_affine=True)\n",
            "          (dropout1): Dropout(p=0.5, inplace=False)\n",
            "          (dropout2): Dropout(p=0.5, inplace=False)\n",
            "        )\n",
            "      )\n",
            "    )\n",
            "  )\n",
            "  (classifier): Linear(in_features=2300, out_features=3, bias=True)\n",
            "  (batch_norm): BatchNorm1d(2300, eps=1e-05, momentum=0.1, affine=True, track_running_stats=True)\n",
            "  (regularizer_dropout): Dropout(p=0.5, inplace=False)\n",
            ")\n"
          ]
        }
      ],
      "source": [
        "# Hyperparameter setting for different modules\n",
        "\n",
        "num_embeddings = len(vocab)\n",
        "embedding_dim = 300 # this will be 300 for golove 300\n",
        "hidden_dim = 500  # 200 300 400 500\n",
        "output_dim = train_data[\"gold_label\"].nunique()  # Unique sentiment classes\n",
        "num_layers = 3 # 2, 3, 4\n",
        "bidirectional = True\n",
        "dropout_p = 0.5  # 0.3, 0.5. 0.6\n",
        "padding_idx = vocab[\"<pad>\"]\n",
        "num_heads = 5  # 2, 3, 5, 6, 10\n",
        "num_transformer_layers = 6 # 2, 3, 4\n",
        "\n",
        "model = SentimentAnalysisEnsemble(\n",
        "    num_embeddings,\n",
        "    embedding_dim,\n",
        "    hidden_dim,\n",
        "    output_dim,\n",
        "    num_layers,\n",
        "    bidirectional,\n",
        "    dropout_p,\n",
        "    padding_idx,\n",
        "    num_heads,\n",
        "    num_transformer_layers=num_transformer_layers,\n",
        ")\n",
        "\n",
        "#printing the model\n",
        "print(model)\n"
      ]
    },
    {
      "cell_type": "code",
      "execution_count": 81,
      "id": "5feb9512",
      "metadata": {
        "colab": {
          "base_uri": "https://localhost:8080/",
          "height": 0
        },
        "id": "5feb9512",
        "outputId": "3e531a3a-0766-4d31-ea2f-da0da0371f05"
      },
      "outputs": [
        {
          "name": "stdout",
          "output_type": "stream",
          "text": [
            "The model has 40,244,241 trainable parameters\n"
          ]
        }
      ],
      "source": [
        "#count the total params\n",
        "def count_parameters(model):\n",
        "    return sum(p.numel() for p in model.parameters() if p.requires_grad)\n",
        "\n",
        "\n",
        "print(f\"The model has {count_parameters(model):,} trainable parameters\")"
      ]
    },
    {
      "cell_type": "code",
      "execution_count": 82,
      "id": "2QGJcsDjjz5D",
      "metadata": {
        "id": "2QGJcsDjjz5D"
      },
      "outputs": [],
      "source": [
        "# weight initalizer \"He\" bcoz of RelU else \"Xavier\"\n",
        "\n",
        "import torch.nn as nn\n",
        "\n",
        "def weight_initializer(layer):\n",
        "    #checking layerwise\n",
        "    if isinstance(layer, nn.Linear):\n",
        "        # error - applicable only 2+ dimensions\n",
        "        if layer.weight is not None and layer.weight.dim() > 1:\n",
        "            nn.init.kaiming_normal_(layer.weight, nonlinearity='relu')\n",
        "        if layer.bias is not None:\n",
        "            nn.init.zeros_(layer.bias)\n",
        "    elif isinstance(layer, (nn.LSTM, nn.GRU)):\n",
        "        # Orthogonal lstm and gru\n",
        "        for name, param in layer.named_parameters():\n",
        "            if 'weight' in name:\n",
        "                nn.init.orthogonal_(param)\n",
        "            elif 'bias' in name:\n",
        "                nn.init.zeros_(param)\n",
        "    elif isinstance(layer, (nn.TransformerEncoderLayer, nn.TransformerDecoderLayer)):\n",
        "        # HE for transformer / not the bias\n",
        "        for name, param in layer.named_parameters():\n",
        "            if 'weight' in name and param.dim() > 1:\n",
        "                nn.init.kaiming_normal_(param, nonlinearity='relu')\n",
        "            elif 'bias' in name:\n",
        "                nn.init.zeros_(param)\n",
        "    elif isinstance(layer, nn.Embedding):\n",
        "        #uniform for embedding layer\n",
        "        nn.init.uniform_(layer.weight, -0.1, 0.1)\n"
      ]
    },
    {
      "cell_type": "code",
      "execution_count": 83,
      "id": "98490c40",
      "metadata": {
        "colab": {
          "base_uri": "https://localhost:8080/",
          "height": 0
        },
        "id": "98490c40",
        "outputId": "76fdc0cc-aaaf-4d02-fea5-1538291e5490"
      },
      "outputs": [
        {
          "data": {
            "text/plain": [
              "SentimentAnalysisEnsemble(\n",
              "  (embedding_layer): TokenEmbedding(\n",
              "    (embedding_layer): Embedding(8113, 300, padding_idx=1)\n",
              "    (dropout_layer): Dropout(p=0.5, inplace=False)\n",
              "  )\n",
              "  (lstm_layer): RecurrentLayer(\n",
              "    (rnn): LSTM(300, 500, num_layers=3, batch_first=True, dropout=0.5, bidirectional=True)\n",
              "  )\n",
              "  (gru_layer): RecurrentLayer(\n",
              "    (rnn): GRU(300, 500, num_layers=3, batch_first=True, dropout=0.5, bidirectional=True)\n",
              "  )\n",
              "  (lstm_attention): AttentionModule(\n",
              "    (attention_score_layer): Linear(in_features=1000, out_features=1, bias=True)\n",
              "  )\n",
              "  (gru_attention): AttentionModule(\n",
              "    (attention_score_layer): Linear(in_features=1000, out_features=1, bias=True)\n",
              "  )\n",
              "  (transformer_layer): TransformerLayer(\n",
              "    (encoder_layer): TransformerEncoderLayer(\n",
              "      (self_attn): MultiheadAttention(\n",
              "        (out_proj): NonDynamicallyQuantizableLinear(in_features=300, out_features=300, bias=True)\n",
              "      )\n",
              "      (linear1): Linear(in_features=300, out_features=2048, bias=True)\n",
              "      (dropout): Dropout(p=0.5, inplace=False)\n",
              "      (linear2): Linear(in_features=2048, out_features=300, bias=True)\n",
              "      (norm1): LayerNorm((300,), eps=1e-05, elementwise_affine=True)\n",
              "      (norm2): LayerNorm((300,), eps=1e-05, elementwise_affine=True)\n",
              "      (dropout1): Dropout(p=0.5, inplace=False)\n",
              "      (dropout2): Dropout(p=0.5, inplace=False)\n",
              "    )\n",
              "    (encoder): TransformerEncoder(\n",
              "      (layers): ModuleList(\n",
              "        (0-5): 6 x TransformerEncoderLayer(\n",
              "          (self_attn): MultiheadAttention(\n",
              "            (out_proj): NonDynamicallyQuantizableLinear(in_features=300, out_features=300, bias=True)\n",
              "          )\n",
              "          (linear1): Linear(in_features=300, out_features=2048, bias=True)\n",
              "          (dropout): Dropout(p=0.5, inplace=False)\n",
              "          (linear2): Linear(in_features=2048, out_features=300, bias=True)\n",
              "          (norm1): LayerNorm((300,), eps=1e-05, elementwise_affine=True)\n",
              "          (norm2): LayerNorm((300,), eps=1e-05, elementwise_affine=True)\n",
              "          (dropout1): Dropout(p=0.5, inplace=False)\n",
              "          (dropout2): Dropout(p=0.5, inplace=False)\n",
              "        )\n",
              "      )\n",
              "    )\n",
              "  )\n",
              "  (classifier): Linear(in_features=2300, out_features=3, bias=True)\n",
              "  (batch_norm): BatchNorm1d(2300, eps=1e-05, momentum=0.1, affine=True, track_running_stats=True)\n",
              "  (regularizer_dropout): Dropout(p=0.5, inplace=False)\n",
              ")"
            ]
          },
          "execution_count": 83,
          "metadata": {},
          "output_type": "execute_result"
        }
      ],
      "source": [
        "model.apply(weight_initializer)"
      ]
    },
    {
      "cell_type": "code",
      "execution_count": 84,
      "id": "72bfd654",
      "metadata": {
        "id": "72bfd654"
      },
      "outputs": [],
      "source": [
        "vectors = torchtext.vocab.GloVe()"
      ]
    },
    {
      "cell_type": "code",
      "execution_count": 85,
      "id": "6ec1ed34",
      "metadata": {
        "id": "6ec1ed34"
      },
      "outputs": [],
      "source": [
        "pretrained_embedding = vectors.get_vecs_by_tokens(vocab.get_itos())"
      ]
    },
    {
      "cell_type": "code",
      "execution_count": 86,
      "id": "za9PH_jRa3x2",
      "metadata": {
        "id": "za9PH_jRa3x2"
      },
      "outputs": [],
      "source": [
        "model.embedding_layer.load_pretrained_weights(pretrained_embedding)\n"
      ]
    },
    {
      "cell_type": "code",
      "execution_count": 87,
      "id": "oSFdkzN1FE_W",
      "metadata": {
        "id": "oSFdkzN1FE_W"
      },
      "outputs": [],
      "source": [
        "# Define the optimizer as Nadam/AdamW/Adam\n",
        "\n",
        "from torch.optim import lr_scheduler\n",
        "\n",
        "optimizer = optim.AdamW(\n",
        "    model.parameters(),\n",
        "    lr=5e-4,\n",
        "    betas=(0.9, 0.999),\n",
        "    eps=1e-8,\n",
        "    weight_decay=0.01,\n",
        "    amsgrad=False,\n",
        ")\n",
        "\n",
        "scheduler = lr_scheduler.ReduceLROnPlateau(\n",
        "    optimizer,\n",
        "    mode='min',\n",
        "    factor=0.1,\n",
        "    patience=5,\n",
        "    verbose=True\n",
        ")"
      ]
    },
    {
      "cell_type": "code",
      "execution_count": 88,
      "id": "d798a6bd",
      "metadata": {
        "id": "d798a6bd"
      },
      "outputs": [],
      "source": [
        "criterion = nn.CrossEntropyLoss()"
      ]
    },
    {
      "cell_type": "code",
      "execution_count": 89,
      "id": "4a780705",
      "metadata": {
        "colab": {
          "base_uri": "https://localhost:8080/",
          "height": 0
        },
        "id": "4a780705",
        "outputId": "609adce9-e1a8-4582-a3f7-4fef6527e0eb"
      },
      "outputs": [
        {
          "data": {
            "text/plain": [
              "device(type='cuda')"
            ]
          },
          "execution_count": 89,
          "metadata": {},
          "output_type": "execute_result"
        }
      ],
      "source": [
        "device = torch.device(\"cuda\" if torch.cuda.is_available() else \"cpu\")\n",
        "device"
      ]
    },
    {
      "cell_type": "code",
      "execution_count": 90,
      "id": "5c8302f0",
      "metadata": {
        "id": "5c8302f0"
      },
      "outputs": [],
      "source": [
        "model = model.to(device)\n",
        "criterion = criterion.to(device)"
      ]
    },
    {
      "cell_type": "markdown",
      "id": "6q-xqen6enH-",
      "metadata": {
        "id": "6q-xqen6enH-"
      },
      "source": [
        "Training process..."
      ]
    },
    {
      "cell_type": "code",
      "execution_count": 91,
      "id": "qh8Ghdpig7mf",
      "metadata": {
        "id": "qh8Ghdpig7mf"
      },
      "outputs": [],
      "source": [
        "def train(dataloader, model, criterion, optimizer, device):\n",
        "    model.train()\n",
        "    epoch_losses = []\n",
        "    epoch_accs = []\n",
        "\n",
        "    for batch in tqdm.tqdm(dataloader, desc=\"training...\"):\n",
        "        ids = batch[\"ids\"].to(device).long()  # Convert to LongTensor and move to device\n",
        "        length = batch[\"length\"].to(\"cpu\", dtype=torch.int64)  # Keep lengths on CPU\n",
        "        label = batch[\"label\"].to(device)  # Move labels to GPU\n",
        "\n",
        "        #errror chck for length <= 0\n",
        "        mask = length > 0\n",
        "        ids = ids[mask]\n",
        "        length = length[mask]\n",
        "        label = label[mask]\n",
        "\n",
        "        #skip if empty\n",
        "        if ids.shape[0] == 0:\n",
        "            print(\"Warning: Skipping batch due to all sequences having length <= 0.\")\n",
        "            continue\n",
        "\n",
        "        #FP\n",
        "        prediction = model(ids, length)\n",
        "\n",
        "        # loss and accuracy\n",
        "        loss = criterion(prediction, label)\n",
        "\n",
        "        with torch.no_grad():\n",
        "            accuracy = get_accuracy(prediction, label)\n",
        "\n",
        "        #backward pass\n",
        "        optimizer.zero_grad()\n",
        "        loss.backward()\n",
        "        optimizer.step()\n",
        "\n",
        "        #total lossa and accuracy\n",
        "        epoch_losses.append(loss.item())\n",
        "        epoch_accs.append(accuracy.item())\n",
        "\n",
        "    return np.mean(epoch_losses), np.mean(epoch_accs)\n"
      ]
    },
    {
      "cell_type": "code",
      "execution_count": 92,
      "id": "iqVKSLNkjS40",
      "metadata": {
        "id": "iqVKSLNkjS40"
      },
      "outputs": [],
      "source": [
        "def evaluate(dataloader, model, criterion, device):\n",
        "    model.eval()\n",
        "    val_losses = []\n",
        "    val_accs = []\n",
        "\n",
        "    with torch.no_grad():\n",
        "        for batch in tqdm.tqdm(dataloader, desc=\"evaluating...\"):\n",
        "            ids = batch[\"ids\"].to(device).long()\n",
        "            length = batch[\"length\"].to(\"cpu\", dtype=torch.int64)\n",
        "            label = batch[\"label\"].to(device)\n",
        "\n",
        "            mask = length > 0\n",
        "            ids = ids[mask]\n",
        "            length = length[mask]\n",
        "            label = label[mask]\n",
        "\n",
        "            if ids.shape[0] == 0:\n",
        "                continue\n",
        "\n",
        "            prediction = model(ids, length)\n",
        "            loss = criterion(prediction, label)\n",
        "            accuracy = get_accuracy(prediction, label)\n",
        "\n",
        "            val_losses.append(loss.item())\n",
        "            val_accs.append(accuracy.item())\n",
        "\n",
        "    return np.mean(val_losses), np.mean(val_accs)\n"
      ]
    },
    {
      "cell_type": "code",
      "execution_count": 93,
      "id": "d66535bd",
      "metadata": {
        "id": "d66535bd"
      },
      "outputs": [],
      "source": [
        "def get_accuracy(prediction, label):\n",
        "    batch_size, _ = prediction.shape\n",
        "    predicted_classes = prediction.argmax(dim=-1)\n",
        "    correct_predictions = predicted_classes.eq(label).sum()\n",
        "    accuracy = correct_predictions.float() / batch_size  # Ensure float division\n",
        "    return accuracy\n"
      ]
    },
    {
      "cell_type": "code",
      "execution_count": 94,
      "id": "24c05b57",
      "metadata": {
        "colab": {
          "base_uri": "https://localhost:8080/",
          "height": 0
        },
        "id": "24c05b57",
        "outputId": "16679dc8-7d6e-4d33-f212-0b8adba8e786"
      },
      "outputs": [
        {
          "name": "stderr",
          "output_type": "stream",
          "text": [
            "training...: 100%|██████████| 1153/1153 [03:05<00:00,  6.21it/s]\n",
            "evaluating...: 100%|██████████| 289/289 [00:13<00:00, 21.28it/s]\n"
          ]
        },
        {
          "name": "stdout",
          "output_type": "stream",
          "text": [
            "Time per epoch: 3.32 minutes\n",
            "epoch: 1\n",
            "train_loss: 0.932, train_acc: 0.610\n",
            "valid_loss: 0.830, valid_acc: 0.668\n"
          ]
        },
        {
          "name": "stderr",
          "output_type": "stream",
          "text": [
            "training...: 100%|██████████| 1153/1153 [03:10<00:00,  6.04it/s]\n",
            "evaluating...: 100%|██████████| 289/289 [00:13<00:00, 21.19it/s]\n"
          ]
        },
        {
          "name": "stdout",
          "output_type": "stream",
          "text": [
            "Time per epoch: 3.41 minutes\n",
            "epoch: 2\n",
            "train_loss: 0.787, train_acc: 0.674\n",
            "valid_loss: 0.874, valid_acc: 0.630\n"
          ]
        },
        {
          "name": "stderr",
          "output_type": "stream",
          "text": [
            "training...: 100%|██████████| 1153/1153 [03:10<00:00,  6.04it/s]\n",
            "evaluating...: 100%|██████████| 289/289 [00:13<00:00, 21.15it/s]\n"
          ]
        },
        {
          "name": "stdout",
          "output_type": "stream",
          "text": [
            "Time per epoch: 3.41 minutes\n",
            "epoch: 3\n",
            "train_loss: 0.737, train_acc: 0.695\n",
            "valid_loss: 0.801, valid_acc: 0.661\n"
          ]
        },
        {
          "name": "stderr",
          "output_type": "stream",
          "text": [
            "training...: 100%|██████████| 1153/1153 [03:10<00:00,  6.05it/s]\n",
            "evaluating...: 100%|██████████| 289/289 [00:13<00:00, 21.18it/s]\n"
          ]
        },
        {
          "name": "stdout",
          "output_type": "stream",
          "text": [
            "Time per epoch: 3.41 minutes\n",
            "epoch: 4\n",
            "train_loss: 0.695, train_acc: 0.712\n",
            "valid_loss: 0.710, valid_acc: 0.697\n"
          ]
        },
        {
          "name": "stderr",
          "output_type": "stream",
          "text": [
            "training...: 100%|██████████| 1153/1153 [03:10<00:00,  6.05it/s]\n",
            "evaluating...: 100%|██████████| 289/289 [00:13<00:00, 21.20it/s]\n"
          ]
        },
        {
          "name": "stdout",
          "output_type": "stream",
          "text": [
            "Time per epoch: 3.40 minutes\n",
            "epoch: 5\n",
            "train_loss: 0.667, train_acc: 0.725\n",
            "valid_loss: 0.714, valid_acc: 0.705\n"
          ]
        },
        {
          "name": "stderr",
          "output_type": "stream",
          "text": [
            "training...: 100%|██████████| 1153/1153 [03:10<00:00,  6.04it/s]\n",
            "evaluating...: 100%|██████████| 289/289 [00:13<00:00, 21.21it/s]\n"
          ]
        },
        {
          "name": "stdout",
          "output_type": "stream",
          "text": [
            "Time per epoch: 3.41 minutes\n",
            "epoch: 6\n",
            "train_loss: 0.638, train_acc: 0.738\n",
            "valid_loss: 0.757, valid_acc: 0.706\n"
          ]
        },
        {
          "name": "stderr",
          "output_type": "stream",
          "text": [
            "training...: 100%|██████████| 1153/1153 [03:11<00:00,  6.03it/s]\n",
            "evaluating...: 100%|██████████| 289/289 [00:13<00:00, 21.23it/s]\n"
          ]
        },
        {
          "name": "stdout",
          "output_type": "stream",
          "text": [
            "Time per epoch: 3.41 minutes\n",
            "epoch: 7\n",
            "train_loss: 0.613, train_acc: 0.749\n",
            "valid_loss: 0.700, valid_acc: 0.716\n"
          ]
        },
        {
          "name": "stderr",
          "output_type": "stream",
          "text": [
            "training...: 100%|██████████| 1153/1153 [03:10<00:00,  6.04it/s]\n",
            "evaluating...: 100%|██████████| 289/289 [00:13<00:00, 21.37it/s]\n"
          ]
        },
        {
          "name": "stdout",
          "output_type": "stream",
          "text": [
            "Time per epoch: 3.41 minutes\n",
            "epoch: 8\n",
            "train_loss: 0.584, train_acc: 0.762\n",
            "valid_loss: 0.702, valid_acc: 0.719\n"
          ]
        },
        {
          "name": "stderr",
          "output_type": "stream",
          "text": [
            "training...: 100%|██████████| 1153/1153 [03:10<00:00,  6.04it/s]\n",
            "evaluating...: 100%|██████████| 289/289 [00:13<00:00, 21.30it/s]\n"
          ]
        },
        {
          "name": "stdout",
          "output_type": "stream",
          "text": [
            "Time per epoch: 3.41 minutes\n",
            "epoch: 9\n",
            "train_loss: 0.558, train_acc: 0.772\n",
            "valid_loss: 0.702, valid_acc: 0.713\n"
          ]
        },
        {
          "name": "stderr",
          "output_type": "stream",
          "text": [
            "training...: 100%|██████████| 1153/1153 [03:11<00:00,  6.03it/s]\n",
            "evaluating...: 100%|██████████| 289/289 [00:13<00:00, 21.25it/s]"
          ]
        },
        {
          "name": "stdout",
          "output_type": "stream",
          "text": [
            "Time per epoch: 3.42 minutes\n",
            "Early stopping triggered.\n"
          ]
        },
        {
          "name": "stderr",
          "output_type": "stream",
          "text": [
            "\n"
          ]
        }
      ],
      "source": [
        "import time\n",
        "import collections\n",
        "import torch\n",
        "\n",
        "n_epochs = 10\n",
        "best_valid_loss = float(\"inf\")\n",
        "patience = 3\n",
        "early_stop_counter = 0\n",
        "\n",
        "metrics = collections.defaultdict(list)\n",
        "\n",
        "for epoch in range(n_epochs):\n",
        "    start_time = time.time()\n",
        "\n",
        "    train_loss, train_acc = train(\n",
        "        train_data_loader, model, criterion, optimizer, device\n",
        "    )\n",
        "\n",
        "    valid_loss, valid_acc = evaluate(valid_data_loader, model, criterion, device)\n",
        "\n",
        "    end_time = time.time()\n",
        "\n",
        "\n",
        "    epoch_duration = (end_time - start_time) / 60\n",
        "    print(f\"Time per epoch: {epoch_duration:.2f} minutes\")\n",
        "\n",
        "    metrics[\"train_losses\"].append(train_loss)\n",
        "    metrics[\"train_accs\"].append(train_acc)\n",
        "    metrics[\"valid_losses\"].append(valid_loss)\n",
        "    metrics[\"valid_accs\"].append(valid_acc)\n",
        "\n",
        "    if valid_loss < best_valid_loss:\n",
        "        best_valid_loss = valid_loss\n",
        "        torch.save(model.state_dict(), \"lstm.pt\")\n",
        "        early_stop_counter = 0\n",
        "    else:\n",
        "        early_stop_counter += 1\n",
        "\n",
        "    if early_stop_counter >= patience:\n",
        "        print(\"Early stopping triggered.\")\n",
        "        break\n",
        "\n",
        "    print(f\"epoch: {epoch + 1}\")\n",
        "    print(f\"train_loss: {train_loss:.3f}, train_acc: {train_acc:.3f}\")\n",
        "    print(f\"valid_loss: {valid_loss:.3f}, valid_acc: {valid_acc:.3f}\")\n",
        "\n",
        "\n",
        "if early_stop_counter < patience:\n",
        "    torch.save(model.state_dict(), \"1_final_lstm.pt\")\n",
        "\n"
      ]
    },
    {
      "cell_type": "code",
      "execution_count": 95,
      "id": "b360d0cd",
      "metadata": {
        "colab": {
          "base_uri": "https://localhost:8080/",
          "height": 405
        },
        "id": "b360d0cd",
        "outputId": "c24e0e5a-d55e-4ad2-afd0-139857ac4d4a"
      },
      "outputs": [
        {
          "data": {
            "image/png": "[encoded data removed]",
            "text/plain": [
              "<Figure size 1000x600 with 1 Axes>"
            ]
          },
          "metadata": {},
          "output_type": "display_data"
        }
      ],
      "source": [
        "fig = plt.figure(figsize=(10, 6))\n",
        "ax = fig.add_subplot(1, 1, 1)\n",
        "ax.plot(metrics[\"train_losses\"], label=\"train loss\")\n",
        "ax.plot(metrics[\"valid_losses\"], label=\"valid loss\")\n",
        "ax.set_xlabel(\"epoch\")\n",
        "ax.set_ylabel(\"loss\")\n",
        "ax.set_xticks(range(n_epochs))\n",
        "ax.legend()\n",
        "ax.grid()"
      ]
    },
    {
      "cell_type": "code",
      "execution_count": 96,
      "id": "742a6855",
      "metadata": {
        "colab": {
          "base_uri": "https://localhost:8080/",
          "height": 399
        },
        "id": "742a6855",
        "outputId": "26a7030a-4a99-4ece-f3bc-f520020cfa62"
      },
      "outputs": [
        {
          "data": {
            "image/png": "[encoded data removed]",
            "text/plain": [
              "<Figure size 1000x600 with 1 Axes>"
            ]
          },
          "metadata": {},
          "output_type": "display_data"
        }
      ],
      "source": [
        "fig = plt.figure(figsize=(10, 6))\n",
        "ax = fig.add_subplot(1, 1, 1)\n",
        "ax.plot(metrics[\"train_accs\"], label=\"train accuracy\")\n",
        "ax.plot(metrics[\"valid_accs\"], label=\"valid accuracy\")\n",
        "ax.set_xlabel(\"epoch\")\n",
        "ax.set_ylabel(\"loss\")\n",
        "ax.set_xticks(range(n_epochs))\n",
        "ax.legend()\n",
        "ax.grid()"
      ]
    },
    {
      "cell_type": "code",
      "execution_count": 97,
      "id": "xAWdkHSBpuz8",
      "metadata": {
        "id": "xAWdkHSBpuz8"
      },
      "outputs": [],
      "source": [
        "def tokenize_example(sentence, tokenizer, max_length):\n",
        "    tokens = tokenizer(sentence)[:max_length]\n",
        "    return {\"tokens\": tokens, \"length\": len(tokens)}\n"
      ]
    },
    {
      "cell_type": "code",
      "execution_count": 98,
      "id": "verF-CASqC3B",
      "metadata": {
        "id": "verF-CASqC3B"
      },
      "outputs": [],
      "source": [
        "def numericalize_example(row, vocab):\n",
        "    ids = vocab.lookup_indices(row[\"tokens\"])\n",
        "    return {\"ids\": ids, \"length\": row[\"length\"]}\n"
      ]
    },
    {
      "cell_type": "code",
      "execution_count": 99,
      "id": "ljyA4p7y--tl",
      "metadata": {
        "id": "ljyA4p7y--tl"
      },
      "outputs": [],
      "source": [
        "max_length=256"
      ]
    },
    {
      "cell_type": "code",
      "execution_count": 100,
      "id": "OiIEtQ84o0Xl",
      "metadata": {
        "colab": {
          "base_uri": "https://localhost:8080/",
          "height": 0
        },
        "id": "OiIEtQ84o0Xl",
        "outputId": "36a0b61a-7b86-45a7-97f5-bd4a108e72da"
      },
      "outputs": [
        {
          "name": "stdout",
          "output_type": "stream",
          "text": [
            "test data tokenized and numericalized:\n",
            "      text_id                                           sentence  \\\n",
            "0  r1-0086521  A helpful valet at the Bellagio said it was a ...   \n",
            "1  r1-0044715  People often ask \"what happened to the human c...   \n",
            "2  r1-0060690  He explained there would be a diagnostic fee o...   \n",
            "3  r1-0016852    I had initially purchased a massage on Groupon.   \n",
            "4  r2-0006040  Primarily do high-end cars as they get referra...   \n",
            "\n",
            "                                           tokenized  \\\n",
            "0  {'tokens': ['a', 'helpful', 'valet', 'at', 'th...   \n",
            "1  {'tokens': ['people', 'often', 'ask', 'what', ...   \n",
            "2  {'tokens': ['he', 'explained', 'there', 'would...   \n",
            "3  {'tokens': ['i', 'had', 'initially', 'purchase...   \n",
            "4  {'tokens': ['primarily', 'do', 'high-end', 'ca...   \n",
            "\n",
            "                                       numericalized  \n",
            "0  {'ids': [5, 726, 1517, 23, 2, 4138, 93, 10, 7,...  \n",
            "1  {'ids': [96, 561, 226, 59, 818, 6, 2, 2743, 41...  \n",
            "2  {'ids': [51, 752, 30, 49, 29, 5, 4171, 1025, 8...  \n",
            "3  {'ids': [3, 22, 1874, 571, 5, 660, 16, 639, 0]...  \n",
            "4  {'ids': [4250, 76, 0, 922, 32, 19, 37, 7861, 4...  \n"
          ]
        }
      ],
      "source": [
        "# Token+ Numer test Data\n",
        "test_data[\"tokenized\"] = test_data[\"sentence\"].apply(\n",
        "    lambda x: tokenize_example(x, tokenizer, max_length)\n",
        ")\n",
        "\n",
        "test_data[\"numericalized\"] = test_data[\"tokenized\"].apply(\n",
        "    lambda x: numericalize_example(x, vocab)\n",
        ")\n",
        "\n",
        "print(\"test data tokenized and numericalized:\")\n",
        "print(test_data.head())\n",
        "\n"
      ]
    },
    {
      "cell_type": "code",
      "execution_count": 101,
      "id": "IbESKUFy3aj8",
      "metadata": {
        "colab": {
          "base_uri": "https://localhost:8080/",
          "height": 0
        },
        "id": "IbESKUFy3aj8",
        "outputId": "8b0e433f-a178-4e9b-86cc-c0cb839df5d4"
      },
      "outputs": [
        {
          "name": "stdout",
          "output_type": "stream",
          "text": [
            "0    {'ids': [5, 726, 1517, 23, 2, 4138, 93, 10, 7,...\n",
            "1    {'ids': [96, 561, 226, 59, 818, 6, 2, 2743, 41...\n",
            "2    {'ids': [51, 752, 30, 49, 29, 5, 4171, 1025, 8...\n",
            "3    {'ids': [3, 22, 1874, 571, 5, 660, 16, 639, 0]...\n",
            "4    {'ids': [4250, 76, 0, 922, 32, 19, 37, 7861, 4...\n",
            "Name: numericalized, dtype: object\n",
            "(5110, 4)\n"
          ]
        }
      ],
      "source": [
        "print(test_data[\"numericalized\"].head())\n",
        "print(test_data.shape)\n"
      ]
    },
    {
      "cell_type": "code",
      "execution_count": 102,
      "id": "coz43ufj4__4",
      "metadata": {
        "id": "coz43ufj4__4"
      },
      "outputs": [],
      "source": [
        "def get_collate_fn(pad_index):\n",
        "    def collate_fn(batch):\n",
        "        batch_ids = [torch.tensor(row[\"numericalized\"][\"ids\"]) for row in batch]\n",
        "        batch_ids = nn.utils.rnn.pad_sequence(\n",
        "            batch_ids, padding_value=pad_index, batch_first=True\n",
        "        )\n",
        "        batch_length = torch.tensor([row[\"numericalized\"][\"length\"] for row in batch])\n",
        "\n",
        "        # Exclude label for dev data\n",
        "        batch = {\"ids\": batch_ids, \"length\": batch_length}\n",
        "        return batch\n",
        "\n",
        "    return collate_fn"
      ]
    },
    {
      "cell_type": "code",
      "execution_count": 103,
      "id": "96b8rihYqev4",
      "metadata": {
        "colab": {
          "base_uri": "https://localhost:8080/",
          "height": 0
        },
        "id": "96b8rihYqev4",
        "outputId": "aebc5570-a4ac-4879-d6d2-dafa67316591"
      },
      "outputs": [
        {
          "name": "stdout",
          "output_type": "stream",
          "text": [
            "Test DataLoader created.\n"
          ]
        }
      ],
      "source": [
        "# Create DataLoader for Dev Data\n",
        "test_data_loader = get_data_loader(test_data, batch_size, pad_index, shuffle=False)\n",
        "\n",
        "print(\"Test DataLoader created.\")\n"
      ]
    },
    {
      "cell_type": "code",
      "execution_count": 104,
      "id": "P1ddJhYRrAQK",
      "metadata": {
        "colab": {
          "base_uri": "https://localhost:8080/",
          "height": 0
        },
        "id": "P1ddJhYRrAQK",
        "outputId": "017f178d-92b3-4b5c-f2c4-d61950d03228"
      },
      "outputs": [
        {
          "name": "stdout",
          "output_type": "stream",
          "text": [
            "Best model loaded.\n"
          ]
        }
      ],
      "source": [
        "# Load the best saved model\n",
        "model.load_state_dict(torch.load(\"lstm.pt\"))\n",
        "model = model.to(device)\n",
        "\n",
        "print(\"Best model loaded.\")\n"
      ]
    },
    {
      "cell_type": "code",
      "execution_count": 105,
      "id": "h54JZlDQrCDh",
      "metadata": {
        "id": "h54JZlDQrCDh"
      },
      "outputs": [],
      "source": [
        "def predict_test(dataloader, model, device):\n",
        "    model.eval()\n",
        "    predictions = []\n",
        "\n",
        "    with torch.no_grad():\n",
        "        for batch in tqdm.tqdm(dataloader, desc=\"Predicting on test data...\"):\n",
        "            ids = batch[\"ids\"].to(device)\n",
        "            length = batch[\"length\"]\n",
        "            outputs = model(ids, length)\n",
        "            predicted_classes = outputs.argmax(dim=-1).cpu().numpy()\n",
        "            predictions.extend(predicted_classes)\n",
        "\n",
        "    return predictions\n",
        "\n"
      ]
    },
    {
      "cell_type": "code",
      "execution_count": 106,
      "id": "kmYnwVoBr66g",
      "metadata": {
        "colab": {
          "base_uri": "https://localhost:8080/",
          "height": 0
        },
        "id": "kmYnwVoBr66g",
        "outputId": "adc73199-9be5-4589-9a0a-5845a19c609d"
      },
      "outputs": [
        {
          "name": "stderr",
          "output_type": "stream",
          "text": [
            "Predicting on test data...: 100%|██████████| 80/80 [00:04<00:00, 19.49it/s]"
          ]
        },
        {
          "name": "stdout",
          "output_type": "stream",
          "text": [
            "Sample Predictions (Class Indices): [2, 1, 1, 1, 0, 0, 1, 2, 1, 1]\n"
          ]
        },
        {
          "name": "stderr",
          "output_type": "stream",
          "text": [
            "\n"
          ]
        }
      ],
      "source": [
        "predictions = predict_test(test_data_loader, model, device)\n",
        "\n",
        "# 10 predictions\n",
        "print(\"Sample Predictions (Class Indices):\", predictions[:10])  # These will be 0, 1, or 2\n",
        "\n"
      ]
    },
    {
      "cell_type": "code",
      "execution_count": 107,
      "id": "9wA61RI8s-7p",
      "metadata": {
        "colab": {
          "base_uri": "https://localhost:8080/",
          "height": 0
        },
        "id": "9wA61RI8s-7p",
        "outputId": "25fe3d4e-a19f-4c9b-ed63-c049fddd0605"
      },
      "outputs": [
        {
          "name": "stdout",
          "output_type": "stream",
          "text": [
            "Predictions saved to 'answer_dev.txt'.\n"
          ]
        }
      ],
      "source": [
        "# mapping back to original labels\n",
        "index_to_label = {0: -1, 1: 0, 2: 1}\n",
        "\n",
        "mapped_predictions = [index_to_label[pred] for pred in predictions]\n",
        "\n",
        "# Save 'answer_dev.txt'\n",
        "with open(\"answer_dev.txt\", \"w\") as f:\n",
        "    for prediction in mapped_predictions:\n",
        "        f.write(f\"{prediction}\\n\")\n",
        "\n",
        "print(\"Predictions saved to 'answer_dev.txt'.\")\n"
      ]
    },
    {
      "cell_type": "code",
      "execution_count": 108,
      "id": "c07df383",
      "metadata": {
        "id": "c07df383"
      },
      "outputs": [],
      "source": [
        "def predict_sentiment(text, model, tokenizer, vocab, device):\n",
        "    tokens = tokenizer(text)\n",
        "    ids = vocab.lookup_indices(tokens)\n",
        "    length = torch.LongTensor([len(ids)])\n",
        "    tensor = torch.LongTensor(ids).unsqueeze(dim=0).to(device)\n",
        "    prediction = model(tensor, length).squeeze(dim=0)\n",
        "    probability = torch.softmax(prediction, dim=-1)\n",
        "    predicted_class = prediction.argmax(dim=-1).item()\n",
        "    predicted_probability = probability[predicted_class].item()\n",
        "    return predicted_class, predicted_probability"
      ]
    },
    {
      "cell_type": "code",
      "execution_count": 109,
      "id": "8d9d591d",
      "metadata": {
        "colab": {
          "base_uri": "https://localhost:8080/",
          "height": 0
        },
        "id": "8d9d591d",
        "outputId": "b1ad78fc-81a3-4749-b2e5-07671421c4a9"
      },
      "outputs": [
        {
          "data": {
            "text/plain": [
              "(0, 0.9999998807907104)"
            ]
          },
          "execution_count": 109,
          "metadata": {},
          "output_type": "execute_result"
        }
      ],
      "source": [
        "text = \"This film is little terrible!\"\n",
        "\n",
        "predict_sentiment(text, model, tokenizer, vocab, device)"
      ]
    },
    {
      "cell_type": "code",
      "execution_count": 110,
      "id": "f392b05a",
      "metadata": {
        "colab": {
          "base_uri": "https://localhost:8080/",
          "height": 0
        },
        "id": "f392b05a",
        "outputId": "7fd62132-e58e-44ec-92ba-15377692925d"
      },
      "outputs": [
        {
          "data": {
            "text/plain": [
              "(2, 0.9971247315406799)"
            ]
          },
          "execution_count": 110,
          "metadata": {},
          "output_type": "execute_result"
        }
      ],
      "source": [
        "text = \"This film is great!\"\n",
        "\n",
        "predict_sentiment(text, model, tokenizer, vocab, device)"
      ]
    },
    {
      "cell_type": "code",
      "execution_count": 111,
      "id": "3196951d",
      "metadata": {
        "colab": {
          "base_uri": "https://localhost:8080/",
          "height": 0
        },
        "id": "3196951d",
        "outputId": "015ecddf-47da-48ed-eaed-859c3542eade"
      },
      "outputs": [
        {
          "data": {
            "text/plain": [
              "(2, 0.5023961663246155)"
            ]
          },
          "execution_count": 111,
          "metadata": {},
          "output_type": "execute_result"
        }
      ],
      "source": [
        "text = \"This film is not terrible, it's great!\"\n",
        "\n",
        "predict_sentiment(text, model, tokenizer, vocab, device)"
      ]
    },
    {
      "cell_type": "code",
      "execution_count": 112,
      "id": "c35aeb03",
      "metadata": {
        "colab": {
          "base_uri": "https://localhost:8080/",
          "height": 0
        },
        "id": "c35aeb03",
        "outputId": "7345f8bd-d563-4b28-ae38-4a80b8003dd8"
      },
      "outputs": [
        {
          "data": {
            "text/plain": [
              "(0, 0.9999780654907227)"
            ]
          },
          "execution_count": 112,
          "metadata": {},
          "output_type": "execute_result"
        }
      ],
      "source": [
        "text = \"This film is not great, it's terrible!\"\n",
        "\n",
        "predict_sentiment(text, model, tokenizer, vocab, device)"
      ]
    }
  ],
  "metadata": {
    "accelerator": "GPU",
    "colab": {
      "gpuType": "T4",
      "provenance": [],
      "toc_visible": true
    },
    "kernelspec": {
      "display_name": "Python 3",
      "name": "python3"
    },
    "language_info": {
      "codemirror_mode": {
        "name": "ipython",
        "version": 3
      },
      "file_extension": ".py",
      "mimetype": "text/x-python",
      "name": "python",
      "nbconvert_exporter": "python",
      "pygments_lexer": "ipython3",
      "version": "3.9.12"
    }
  },
  "nbformat": 4,
  "nbformat_minor": 5
}
